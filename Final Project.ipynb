{
 "cells": [
  {
   "cell_type": "markdown",
   "metadata": {},
   "source": [
    "# Final Project _ Regression Model of Predictive Analysis for Business Application"
   ]
  },
  {
   "cell_type": "markdown",
   "metadata": {},
   "source": [
    "1. Problem statment:\n",
    "\n",
    "Help Company to find the relationship between advertising cost and advertising clicks, and this relationship can be used to predict the results of advertising clicks! It is useful for us to make a plan for the company cost and market analysis.\n"
   ]
  },
  {
   "cell_type": "markdown",
   "metadata": {},
   "source": [
    "2. Data Description & Setup:\n",
    "\n",
    "A collection of a total of 40 days of webpage ad cost and click volume data. The data set is from my statistic text book (\"Applied Linear Regression Model\") data sourses.\n"
   ]
  },
  {
   "cell_type": "code",
   "execution_count": 2,
   "metadata": {},
   "outputs": [
    {
     "name": "stderr",
     "output_type": "stream",
     "text": [
      "/Users/yuyiran/anaconda2/lib/python2.7/site-packages/sklearn/cross_validation.py:41: DeprecationWarning: This module was deprecated in version 0.18 in favor of the model_selection module into which all the refactored classes and functions are moved. Also note that the interface of the new CV iterators are different from that of this module. This module will be removed in 0.20.\n",
      "  \"This module will be removed in 0.20.\", DeprecationWarning)\n"
     ]
    }
   ],
   "source": [
    "# The first is the preparation before the start. \n",
    "# In the process of creating the regression model, \n",
    "# we need to use the following library files: sklearn library, numpy library, pandas library and matplotlib library. \n",
    "# The sklearn library is used to calculate key parameters in a linear regression model and to test the model. \n",
    "# The numpy and pandas libraries are used for data import, creating data tables and some basic calculations. \n",
    "# The matplotlib library is used to draw scatter plots.\n",
    "from sklearn import linear_model\n",
    "from sklearn import cross_validation\n",
    "import numpy as np\n",
    "import pandas as pd\n",
    "import matplotlib.pyplot as plt"
   ]
  },
  {
   "cell_type": "code",
   "execution_count": 7,
   "metadata": {},
   "outputs": [],
   "source": [
    "# import data into new frame and read the data\n",
    "cost_and_click=pd.DataFrame(pd.read_excel('cost_and_click.xlsx'))"
   ]
  },
  {
   "cell_type": "code",
   "execution_count": 8,
   "metadata": {},
   "outputs": [
    {
     "data": {
      "text/html": [
       "<div>\n",
       "<style scoped>\n",
       "    .dataframe tbody tr th:only-of-type {\n",
       "        vertical-align: middle;\n",
       "    }\n",
       "\n",
       "    .dataframe tbody tr th {\n",
       "        vertical-align: top;\n",
       "    }\n",
       "\n",
       "    .dataframe thead th {\n",
       "        text-align: right;\n",
       "    }\n",
       "</style>\n",
       "<table border=\"1\" class=\"dataframe\">\n",
       "  <thead>\n",
       "    <tr style=\"text-align: right;\">\n",
       "      <th></th>\n",
       "      <th>cost</th>\n",
       "      <th>click</th>\n",
       "    </tr>\n",
       "  </thead>\n",
       "  <tbody>\n",
       "    <tr>\n",
       "      <th>0</th>\n",
       "      <td>10968</td>\n",
       "      <td>1131</td>\n",
       "    </tr>\n",
       "    <tr>\n",
       "      <th>1</th>\n",
       "      <td>8216</td>\n",
       "      <td>876</td>\n",
       "    </tr>\n",
       "    <tr>\n",
       "      <th>2</th>\n",
       "      <td>9971</td>\n",
       "      <td>856</td>\n",
       "    </tr>\n",
       "    <tr>\n",
       "      <th>3</th>\n",
       "      <td>7279</td>\n",
       "      <td>694</td>\n",
       "    </tr>\n",
       "    <tr>\n",
       "      <th>4</th>\n",
       "      <td>8793</td>\n",
       "      <td>789</td>\n",
       "    </tr>\n",
       "  </tbody>\n",
       "</table>\n",
       "</div>"
      ],
      "text/plain": [
       "    cost  click\n",
       "0  10968   1131\n",
       "1   8216    876\n",
       "2   9971    856\n",
       "3   7279    694\n",
       "4   8793    789"
      ]
     },
     "execution_count": 8,
     "metadata": {},
     "output_type": "execute_result"
    }
   ],
   "source": [
    "# print first 5 rows of the dataset\n",
    "cost_and_click.head()\n"
   ]
  },
  {
   "cell_type": "code",
   "execution_count": 9,
   "metadata": {},
   "outputs": [
    {
     "data": {
      "text/plain": [
       "((40, 1), (40,))"
      ]
     },
     "execution_count": 9,
     "metadata": {},
     "output_type": "execute_result"
    }
   ],
   "source": [
    "# set cost as independent variable X\n",
    "X =np.array(cost_and_click[['cost']])\n",
    "# set click as dependent variable Y\n",
    "Y =np.array(cost_and_click['click'])\n",
    "# Print the shape of dataset \n",
    "X.shape,Y.shape"
   ]
  },
  {
   "cell_type": "code",
   "execution_count": 10,
   "metadata": {},
   "outputs": [
    {
     "data": {
      "image/png": "[encoded data removed]",
      "text/plain": [
       "<Figure size 432x288 with 1 Axes>"
      ]
     },
     "metadata": {},
     "output_type": "display_data"
    }
   ],
   "source": [
    "# Make the scatter plot \n",
    "plt.scatter(X,Y,60,color='blue',marker='o',linewidth=3,alpha=0.8)\n",
    "# set x label\n",
    "plt.xlabel('cost')\n",
    "# set y label\n",
    "plt.ylabel('click')\n",
    "# set title\n",
    "plt.title('Analys of the cost and click')\n",
    "# set other parameters\n",
    "plt.grid(color='#95a5a6',linestyle='--', linewidth=1,axis='both',alpha=0.4)\n",
    "# print plot\n",
    "plt.show()"
   ]
  },
  {
   "cell_type": "markdown",
   "metadata": {},
   "source": [
    "3. Algorithm Explanation:\n",
    "\n",
    "In the original data, we recorded a total of 40 days of advertising cost and click data. The 40 days data were divided into two parts, one was used as a training set to create a regression model, and the other part was used as a test set to test the results of the regression model. The following is a specific data grouping code that uses a random method to extract 40% from 40 records as a test set and 60% as training set data. \n",
    "\n",
    "Here we have only one independent variable X, so it is a one-way regression model. Where slope b1 and intercept b0 are the key parameter values we require.For the regression model, it is also necessary to calculate the decision coefficient, which is R square, to explain the interpretation of the independent variable to the dependent variable.\n",
    "\n",
    "With the previous slope and intercept, we can plot the relationship between the cost of the ad and the amount of clicks on the ad, and use this relationship to predict the results of the ad clicks."
   ]
  },
  {
   "cell_type": "code",
   "execution_count": 11,
   "metadata": {},
   "outputs": [],
   "source": [
    "# Split data into training and test sets\n",
    "X_train, X_test, y_train, y_test= cross_validation.train_test_split(X, Y, test_size=0.4, random_state=0)"
   ]
  },
  {
   "cell_type": "code",
   "execution_count": 12,
   "metadata": {},
   "outputs": [
    {
     "data": {
      "text/plain": [
       "((24, 1), (24,))"
      ]
     },
     "execution_count": 12,
     "metadata": {},
     "output_type": "execute_result"
    }
   ],
   "source": [
    "X_train.shape,y_train.shape"
   ]
  },
  {
   "cell_type": "code",
   "execution_count": 13,
   "metadata": {},
   "outputs": [
    {
     "data": {
      "text/plain": [
       "LinearRegression(copy_X=True, fit_intercept=True, n_jobs=1, normalize=False)"
      ]
     },
     "execution_count": 13,
     "metadata": {},
     "output_type": "execute_result"
    }
   ],
   "source": [
    "# Substitution linear regression model\n",
    "clf =linear_model.LinearRegression()\n",
    "clf.fit (X_train,y_train)"
   ]
  },
  {
   "cell_type": "code",
   "execution_count": 14,
   "metadata": {},
   "outputs": [
    {
     "data": {
      "text/plain": [
       "array([0.12718482])"
      ]
     },
     "execution_count": 14,
     "metadata": {},
     "output_type": "execute_result"
    }
   ],
   "source": [
    "# Compute slope b1\n",
    "clf.coef_"
   ]
  },
  {
   "cell_type": "code",
   "execution_count": 15,
   "metadata": {},
   "outputs": [
    {
     "data": {
      "text/plain": [
       "-338.95787455636366"
      ]
     },
     "execution_count": 15,
     "metadata": {},
     "output_type": "execute_result"
    }
   ],
   "source": [
    "# Compute intercept bo\n",
    "clf.intercept_"
   ]
  },
  {
   "cell_type": "code",
   "execution_count": 16,
   "metadata": {},
   "outputs": [
    {
     "data": {
      "text/plain": [
       "0.8346545132757202"
      ]
     },
     "execution_count": 16,
     "metadata": {},
     "output_type": "execute_result"
    }
   ],
   "source": [
    "# Compute R sequare\n",
    "clf.score(X_train,y_train)"
   ]
  },
  {
   "cell_type": "code",
   "execution_count": 17,
   "metadata": {},
   "outputs": [
    {
     "data": {
      "text/plain": [
       "[927.9301404401098,\n",
       " 865.2280230429345,\n",
       " 992.1584757049644,\n",
       " 779.3782679859504,\n",
       " 1183.1900788095427,\n",
       " 992.4128453495779,\n",
       " 841.0629068046723,\n",
       " 718.7111077456815,\n",
       " 853.9085738576433,\n",
       " 792.0967502166146,\n",
       " 903.6378393795409,\n",
       " 992.5400301718845,\n",
       " 267.9680974909379,\n",
       " 929.2019886631762,\n",
       " 919.1543877009514,\n",
       " 1055.4965172136726]"
      ]
     },
     "execution_count": 17,
     "metadata": {},
     "output_type": "execute_result"
    }
   ],
   "source": [
    "# Substituting the independent variables of the test set into the model predictor dependent variable. \n",
    "list(clf.predict(X_test))"
   ]
  },
  {
   "cell_type": "code",
   "execution_count": 18,
   "metadata": {},
   "outputs": [
    {
     "data": {
      "text/plain": [
       "[846,\n",
       " 887,\n",
       " 999,\n",
       " 789,\n",
       " 1831,\n",
       " 1032,\n",
       " 795,\n",
       " 896,\n",
       " 811,\n",
       " 772,\n",
       " 805,\n",
       " 1033,\n",
       " 205,\n",
       " 856,\n",
       " 900,\n",
       " 1120]"
      ]
     },
     "execution_count": 18,
     "metadata": {},
     "output_type": "execute_result"
    }
   ],
   "source": [
    "list(y_test)"
   ]
  },
  {
   "cell_type": "markdown",
   "metadata": {},
   "source": [
    "The results were compared to the dependent variables of the test set to assess the accuracy of the model within the error tolerance. "
   ]
  },
  {
   "cell_type": "code",
   "execution_count": 19,
   "metadata": {},
   "outputs": [
    {
     "data": {
      "text/plain": [
       "489566.49048230547"
      ]
     },
     "execution_count": 19,
     "metadata": {},
     "output_type": "execute_result"
    }
   ],
   "source": [
    "# error tolerance square sum\n",
    "((y_test - clf.predict(X_test))**2).sum()"
   ]
  },
  {
   "cell_type": "markdown",
   "metadata": {},
   "source": [
    "4. Result:\n",
    "\n",
    "For now, we could predict any click number the company want then get the predictive result of the cost of ad, it is a good way for the company to make a plan for their cost. "
   ]
  },
  {
   "cell_type": "code",
   "execution_count": 20,
   "metadata": {},
   "outputs": [
    {
     "data": {
      "text/plain": [
       "array([2204.73857158])"
      ]
     },
     "execution_count": 20,
     "metadata": {},
     "output_type": "execute_result"
    }
   ],
   "source": [
    "# here is an example for getting the predictive result\n",
    "clf.predict(20000)"
   ]
  },
  {
   "cell_type": "code",
   "execution_count": null,
   "metadata": {},
   "outputs": [],
   "source": []
  }
 ],
 "metadata": {
  "kernelspec": {
   "display_name": "Python 2",
   "language": "python",
   "name": "python2"
  },
  "language_info": {
   "codemirror_mode": {
    "name": "ipython",
    "version": 2
   },
   "file_extension": ".py",
   "mimetype": "text/x-python",
   "name": "python",
   "nbconvert_exporter": "python",
   "pygments_lexer": "ipython2",
   "version": "2.7.15"
  }
 },
 "nbformat": 4,
 "nbformat_minor": 2
}
